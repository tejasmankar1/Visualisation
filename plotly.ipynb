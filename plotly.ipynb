{
 "cells": [
  {
   "cell_type": "markdown",
   "id": "1482ad30-7f43-49c2-a741-aeee4fbd008f",
   "metadata": {},
   "source": [
    "Q1. Load the \"titanic\" dataset using the load_dataset function of seaborn. Use Plotly express to plot a scatter plot for age and fare columns in the titanic dataset.\n",
    "\n",
    "\n"
   ]
  },
  {
   "cell_type": "code",
   "execution_count": null,
   "id": "bb2f8c4b-eb03-4255-bea2-7be9d33d0135",
   "metadata": {},
   "outputs": [],
   "source": [
    "import seaborn as sns\n",
    "import plotly.express as px\n",
    "\n",
    "# Load the titanic dataset\n",
    "titanic_data = sns.load_dataset(\"titanic\")\n",
    "\n",
    "# Create a scatter plot for age and fare columns\n",
    "scatter_plot = px.scatter(titanic_data, x=\"age\", y=\"fare\")\n",
    "\n",
    "# Show the scatter plot\n",
    "scatter_plot.show()"
   ]
  },
  {
   "cell_type": "markdown",
   "id": "586cb4f4-9ac2-44b7-89d0-f058bdd32062",
   "metadata": {},
   "source": [
    "Q2. Using the tips dataset in the Plotly library, plot a box plot using Plotly express.\n",
    "\n",
    "\n",
    "\n"
   ]
  },
  {
   "cell_type": "code",
   "execution_count": null,
   "id": "8444aa08-4810-4b97-bdbf-945846bb172e",
   "metadata": {},
   "outputs": [],
   "source": [
    "# Load the tips dataset from Plotly\n",
    "tips_data = px.data.tips()\n",
    "\n",
    "# Create a box plot for total bill and day of the week\n",
    "box_plot = px.box(tips_data, x=\"day\", y=\"total_bill\")\n",
    "\n",
    "# Show the box plot\n",
    "box_plot.show()\n",
    "\n",
    "     \n"
   ]
  },
  {
   "cell_type": "markdown",
   "id": "d4db78dc-57ba-4e11-84f5-99833e24cc46",
   "metadata": {},
   "source": [
    "Q3. Using the tips dataset in the Plotly library, Plot a histogram for x= \"sex\" and y=\"total_bill\" column in the tips dataset. Also, use the \"smoker\" column with the pattern_shape parameter and the \"day\" column with the color parameter.\n",
    "\n"
   ]
  },
  {
   "cell_type": "code",
   "execution_count": null,
   "id": "6c84bc2a-864c-44e5-8255-6c4b87b8ccee",
   "metadata": {},
   "outputs": [],
   "source": [
    "# Load the tips dataset from Plotly\n",
    "tips_data = px.data.tips()\n",
    "\n",
    "# Create a histogram for total bill, with sex on the x-axis and smoker on the pattern_shape parameter\n",
    "histogram = px.histogram(tips_data, x=\"sex\", y=\"total_bill\", color=\"day\", pattern_shape=\"smoker\")\n",
    "\n",
    "# Show the histogram\n",
    "histogram.show()\n"
   ]
  },
  {
   "cell_type": "markdown",
   "id": "c50862a5-d756-4b5f-a7a4-927927f9c9fa",
   "metadata": {},
   "source": [
    "Q4. Using the iris dataset in the Plotly library, Plot a scatter matrix plot, using the \"species\" column for the color parameter."
   ]
  },
  {
   "cell_type": "code",
   "execution_count": null,
   "id": "4e14b832-e5ac-4868-b4e0-7a89f06504b8",
   "metadata": {},
   "outputs": [],
   "source": [
    "Q5. What is Distplot? Using Plotly express, plot a distplot.# Load the iris dataset from Plotly\n",
    "iris_data = px.data.iris()\n",
    "\n",
    "# Create a scatter matrix plot\n",
    "scatter_matrix = px.scatter_matrix(\n",
    "    iris_data,\n",
    "    dimensions=[\"sepal_length\", \"sepal_width\", \"petal_length\", \"petal_width\"],\n",
    "    color=\"species\"\n",
    ")\n",
    "\n",
    "# Show the scatter matrix plot\n",
    "scatter_matrix.show()\n",
    "\n",
    "     \n"
   ]
  },
  {
   "cell_type": "markdown",
   "id": "faf4af0b-07c7-471c-9b19-907908436863",
   "metadata": {},
   "source": [
    "Q5. What is Distplot? Using Plotly express, plot a distplot."
   ]
  },
  {
   "cell_type": "code",
   "execution_count": null,
   "id": "0cfde404-6dc6-43d7-8836-283af9462ae4",
   "metadata": {},
   "outputs": [],
   "source": [
    "Ans> Distplot is a seaborn library function that is used to visualize a univariate distribution of observations. It combines a histogram with a kernel density estimate, allowing to visualize the distribution of a variable along with its density curve.\\\n",
    "\n",
    "\n",
    "# Load the tips dataset from Plotly\n",
    "tips_data = px.data.tips()\n",
    "\n",
    "# Create a histogram for total bill\n",
    "histogram = px.histogram(tips_data, x=\"total_bill\")\n",
    "\n",
    "# Show the histogram\n",
    "histogram.show()"
   ]
  }
 ],
 "metadata": {
  "kernelspec": {
   "display_name": "Python 3 (ipykernel)",
   "language": "python",
   "name": "python3"
  },
  "language_info": {
   "codemirror_mode": {
    "name": "ipython",
    "version": 3
   },
   "file_extension": ".py",
   "mimetype": "text/x-python",
   "name": "python",
   "nbconvert_exporter": "python",
   "pygments_lexer": "ipython3",
   "version": "3.10.8"
  }
 },
 "nbformat": 4,
 "nbformat_minor": 5
}
