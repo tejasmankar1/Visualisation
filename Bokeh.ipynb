{
 "cells": [
  {
   "cell_type": "markdown",
   "id": "4f148c49-0333-4109-87ae-de1801f673e5",
   "metadata": {},
   "source": [
    "Q1. How can you create a Bokeh plot using Python code?\n",
    "Bokeh is a Python library for creating interactive visualizations in web browsers. Here are the basic steps for creating a Bokeh plot using Python code:\n",
    "\n",
    "Import the necessary Bokeh modules: bokeh.plotting and bokeh.io. Define the data you want to plot. This can be done using a Pandas DataFrame or a Python list, for example. Create a figure object using the figure() function from bokeh.plotting. This function takes various arguments to customize the plot, such as the plot width and height, x and y axis labels, etc. Add the desired glyphs (markers, lines, etc.) to the plot using one of the glyph methods such as circle(), line(), or rect() from the figure object. These methods take the data and the properties of the glyph as arguments. Add any desired interactive features to the plot such as tooltips, hover effects, and legends. Call the show() function from bokeh.io to display the plot in a web browser.\n"
   ]
  },
  {
   "cell_type": "code",
   "execution_count": 1,
   "id": "f261dc74-1fdb-4467-a9f7-dc72b42231e2",
   "metadata": {},
   "outputs": [],
   "source": [
    "\n",
    "import bokeh.plotting as bp\n",
    "import bokeh.io as bi\n",
    "import pandas as pd\n",
    "\n",
    "# Define some data to plot\n",
    "x = [1, 2, 3, 4, 5]\n",
    "y = [1, 4, 9, 16, 25]\n",
    "\n",
    "# Create a figure object\n",
    "fig = bp.figure(title='My Plot', x_axis_label='X', y_axis_label='Y')\n",
    "\n",
    "# Add a circle glyph to the plot\n",
    "fig.circle(x, y, size=10, color='navy', alpha=0.5)\n",
    "\n",
    "# Display the plot\n",
    "bi.show(fig)\n"
   ]
  },
  {
   "cell_type": "markdown",
   "id": "4f91c07b-dd80-4831-bcdc-eb691fd4cf6b",
   "metadata": {},
   "source": [
    "Q2. What are glyphs in Bokeh, and how can you add them to a Bokeh plot? Explain with an example.\n",
    "Glyphs in Bokeh are the visual building blocks used to create plots. Glyphs represent the different shapes and markers used to display data points, such as circles, squares, lines, etc. Each glyph is defined by a set of properties, such as position, size, color, and transparency, which are used to customize its appearance.\n",
    "\n",
    "To add glyphs to a Bokeh plot, you need to create a figure object using the figure() function from bokeh.plotting, and then call one of the glyph methods such as circle(), line(), or rect() from the figure object. These methods take the data and the properties of the glyph as arguments.\n",
    "\n"
   ]
  },
  {
   "cell_type": "code",
   "execution_count": 2,
   "id": "0f3b2922-f0f8-4f41-b0ba-f618d7ff16f6",
   "metadata": {},
   "outputs": [],
   "source": [
    "\n",
    "import bokeh.plotting as bp\n",
    "import bokeh.io as bi\n",
    "import pandas as pd\n",
    "\n",
    "# Load the iris dataset from Bokeh\n",
    "from bokeh.sampledata.iris import flowers as iris_data\n",
    "\n",
    "# Create a figure object\n",
    "fig = bp.figure(title='Iris Scatter Plot', x_axis_label='Petal Length',\n",
    "                y_axis_label='Petal Width')\n",
    "\n",
    "# Add a circle glyph to the plot\n",
    "fig.circle(x=iris_data[\"petal_length\"], y=iris_data[\"petal_width\"],\n",
    "           size=10, color='blue', alpha=0.5)\n",
    "\n",
    "# Display the plot\n",
    "bi.show(fig)\n",
    "\n",
    "     \n"
   ]
  },
  {
   "cell_type": "markdown",
   "id": "45ee7914-b897-443b-8f69-af58b69805d3",
   "metadata": {},
   "source": [
    "Q3. How can you customize the appearance of a Bokeh plot, including the axes, title, and legend?\n",
    "Bokeh provides a wide range of options to customize the appearance of a plot. Here are some of the ways to customize the appearance of a Bokeh plot:\n",
    "\n",
    "Title and Axis Labels: You can add a title and axis labels to your plot using the title, x_axis_label, and y_axis_label attributes of the figure object.\n"
   ]
  },
  {
   "cell_type": "code",
   "execution_count": 5,
   "id": "621aab79-e332-4586-a461-86463803986f",
   "metadata": {},
   "outputs": [],
   "source": [
    "fig = bp.figure(title='My Plot', x_axis_label='X Axis', y_axis_label='Y Axis')\n",
    "\n",
    "     \n",
    "#Axis Ticks and Labels: You can customize the axis ticks and labels using the major_label_text_font_size, axis_label_text_font_size, and major_tick_line_color attributes of the Axis class.\n",
    "\n",
    "fig.xaxis.major_label_text_font_size = '14pt'\n",
    "fig.yaxis.major_label_text_font_size = '14pt'\n",
    "fig.xaxis.axis_label_text_font_size = '16pt'\n",
    "fig.yaxis.axis_label_text_font_size = '16pt'\n",
    "fig.xaxis.major_tick_line_color = 'red'\n",
    "fig.yaxis.major_tick_line_color = 'red'\n",
    "\n",
    "     \n",
    "#Legend: You can add a legend to your plot using the legend attribute of the glyph methods. You can customize the location and title of the legend using the location and title attributes.\n",
    "\n",
    "fig.circle(x='x', y='y1', size=10, color='blue', legend_label='Series 1')\n",
    "fig.line(x='x', y='y2', line_width=2, color='red', legend_label='Series 2')\n",
    "fig.legend.location = 'top_left'\n",
    "fig.legend.title = 'Legend Title'\n",
    "\n",
    "     \n",
    "#Background: You can set the background color of your plot using the background_fill_color attribute of the figure object.\n",
    "\n",
    "fig.background_fill_color = '#f2f2f2'\n",
    "\n",
    "     \n",
    "#Gridlines: You can customize the appearance of the gridlines using the grid_line_color and grid_line_alpha attributes of the figure object.\n",
    "\n",
    "fig.grid.grid_line_color = 'white'\n",
    "fig.grid.grid_line_alpha = 0.5"
   ]
  },
  {
   "cell_type": "markdown",
   "id": "2c15e89b-82fe-4e1f-9f2c-f7dce0fcafb9",
   "metadata": {},
   "source": [
    "     \n",
    "Q4. What is a Bokeh server, and how can you use it to create interactive plots that can be updated in real time?\n",
    "Bokeh server is a Python library that allows you to create interactive Bokeh plots that can be updated in real-time. Bokeh server is built on top of Tornado, a scalable web framework for Python.\n",
    "\n",
    "To create an interactive plot using Bokeh server, you need to define your plot as a Bokeh Document object. The Document object contains all the Bokeh objects that make up your plot, such as figures, glyphs, and layouts. You can then add interactive widgets to your plot, such as sliders, buttons, and dropdown menus. The widgets are defined using Bokeh's models API and added to the Document.\n",
    "\n",
    "Once you have defined your plot and added interactive widgets, you can run the Bokeh server using the bokeh serve command. The Bokeh server creates a web application that serves your plot and widgets. When a user interacts with the widgets, the server updates the plot in real-time based on the user's input.\n",
    "\n",
    "Here is an example of how to create an interactive Bokeh plot using Bokeh server:"
   ]
  },
  {
   "cell_type": "code",
   "execution_count": 6,
   "id": "bb07ae14-fa80-4d07-a875-9e0f5ffcb311",
   "metadata": {},
   "outputs": [],
   "source": [
    "from bokeh.io import curdoc\n",
    "from bokeh.layouts import column\n",
    "from bokeh.models import ColumnDataSource, Slider\n",
    "from bokeh.plotting import figure\n",
    "\n",
    "# Define the data source\n",
    "source = ColumnDataSource(data=dict(x=[1, 2, 3], y=[1, 4, 9]))\n",
    "\n",
    "# Define the plot\n",
    "plot = figure(title='Interactive Plot', x_axis_label='X', y_axis_label='Y')\n",
    "plot.line('x', 'y', source=source, line_width=2)\n",
    "\n",
    "# Define the slider widget\n",
    "slider = Slider(title='Power', value=1, start=0.1, end=5, step=0.1)\n",
    "\n",
    "# Define the callback function\n",
    "def update_data(attrname, old, new):\n",
    "    new_y = [x**slider.value for x in source.data['x']]\n",
    "    source.data = dict(x=source.data['x'], y=new_y)\n",
    "\n",
    "slider.on_change('value', update_data)\n",
    "\n",
    "# Combine the plot and slider into a layout\n",
    "layout = column(plot, slider)\n",
    "\n",
    "# Add the layout to the current document\n",
    "curdoc().add_root(layout)\n",
    "\n",
    "     \n"
   ]
  },
  {
   "cell_type": "markdown",
   "id": "82613868-62ad-468f-8bba-446d08d52922",
   "metadata": {},
   "source": [
    "Q5. How can you embed a Bokeh plot into a web page or dashboard using Flask or Django?\n",
    "\n"
   ]
  },
  {
   "cell_type": "code",
   "execution_count": null,
   "id": "bf189a3e-2131-4b83-97e9-cc9974aabc00",
   "metadata": {},
   "outputs": [],
   "source": [
    "\n",
    "from flask import Flask, render_template\n",
    "from bokeh.embed import components\n",
    "from bokeh.plotting import figure\n",
    "from bokeh.resources import CDN\n",
    "\n",
    "app = Flask(__name__)\n",
    "\n",
    "@app.route('/')\n",
    "def index():\n",
    "    # Create the plot\n",
    "    plot = figure(title='My Plot', x_axis_label='X', y_axis_label='Y')\n",
    "    plot.line([1, 2, 3], [1, 4, 9])\n",
    "\n",
    "    # Generate the HTML components\n",
    "    script, div = components(plot)\n",
    "\n",
    "    # Render the template with the plot components\n",
    "    return render_template('index.html', script=script, div=div, cdn_js=CDN.js_files[0], cdn_css=CDN.css_files[0])"
   ]
  },
  {
   "cell_type": "code",
   "execution_count": null,
   "id": "d42e7391-a91f-4ec6-a7bb-62562747a947",
   "metadata": {},
   "outputs": [],
   "source": [
    "\n",
    "if __name__ == '__main__':\n",
    "    app.run()\n",
    "\n",
    "     \n",
    " * Serving Flask app '__main__'\n",
    " * Debug mode: off"
   ]
  }
 ],
 "metadata": {
  "kernelspec": {
   "display_name": "Python 3 (ipykernel)",
   "language": "python",
   "name": "python3"
  },
  "language_info": {
   "codemirror_mode": {
    "name": "ipython",
    "version": 3
   },
   "file_extension": ".py",
   "mimetype": "text/x-python",
   "name": "python",
   "nbconvert_exporter": "python",
   "pygments_lexer": "ipython3",
   "version": "3.10.8"
  }
 },
 "nbformat": 4,
 "nbformat_minor": 5
}
